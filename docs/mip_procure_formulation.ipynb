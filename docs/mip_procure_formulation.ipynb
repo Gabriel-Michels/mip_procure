{
 "cells": [
  {
   "cell_type": "markdown",
   "metadata": {},
   "source": [
    "# Mip Procure Formulation\n",
    "*Author(s): Gabriel Michels (IMPA)*   \n",
    "*July, 2024*.\n",
    "\n"
   ]
  },
  {
   "cell_type": "markdown",
   "metadata": {},
   "source": [
    "### Input Data Model\n"
   ]
  },
  {
   "cell_type": "markdown",
   "metadata": {},
   "source": [
    "#### Indices\n",
    "- $I$: Set of packing.  \n",
    "- $J$: Set of facilities. \n",
    "- $T$: Set of periods."
   ]
  },
  {
   "cell_type": "markdown",
   "metadata": {},
   "source": [
    "#### Parameters\n",
    "- $iup:$ Inventory capacity of Patas Pack.  \n",
    "- $iug:$ Inventory capacity of Pet Gourmet.  \n",
    "- $au_{it}:$ Aquisition limit of packing $i$ by period.\n",
    "- $tu:$ Total tranfer limit by period.  \n",
    "- $ilg_{i}:$ Minimum Inventory of packing $i$ n Pet Gourmet.  \n",
    "- $tup:$ Maximum time of any packing in Patas Pack.  \n",
    "- $inp{i}:$ Initial inventory of packing $i$ in Patas Pack.    \n",
    "- $ing_{i}:$ Initial inventory of packing $i$ in Pet Gourmet.    \n",
    "- $d_{it}:$ Demand of packing $i$ in period $t$.  \n",
    "- $c_{it}$: acquisition cost of packing $i$ in period $t$.  \n",
    "- $icp_{i}$: Inventory cost by period of packink $i$ in the factory Patas Pack.  \n",
    "- $icg_{i}$: Inventory cost by period of packing $i$ in Pet Gourmet.  \n",
    "- $moq_{it}$: Minimum order quantity of packing $i$ at period $t$.\n",
    "- $dpu$: Maximum of different types of packings that are transferred at period.\n"
   ]
  },
  {
   "cell_type": "markdown",
   "metadata": {},
   "source": [
    "### Decision Variables\n",
    "- $yg_{it}$: Inventory of packing $i$ at the end of the period $t$ that is in Patas Pack.       \n",
    "- $yp_{it}$: Inventory of packing $i$ at the end of the period $t$ that is in Pet Gourmet.        \n",
    "- $x_{it}$: Transported quantity of packing $i$ at the end of the period $t$.    \n",
    "- $w_{it}$: Acquired quantity of packink $i$ at the end of the period $t$. \n",
    "- $wb_{it}$: equals $1$ if some packig $i$ is acquired at period $t$, $0$, otherwise. \n",
    "- $xb_{it}$: equals $1$ is the paking $i$ is transferred at period $t$, $0$, otherwise."
   ]
  },
  {
   "cell_type": "markdown",
   "metadata": {},
   "source": [
    "### Constraints  \n",
    "* C1) Inventory Capacity:      \n",
    "$$\\sum_{i}yg_{it}\\leq iug, \\quad \\forall t \\in T$$          \n",
    "$$\\sum_{i}yp_{it}\\leq iup, \\quad \\forall t \\in T$$    \n",
    " \n",
    " * C2) Minimum and maximum order quantity:     \n",
    " $$wb_{it} \\cdot moq_{it} \\leq  w_{it} \\leq wb_{it} \\cdot au_{it}, \\quad \\forall t\\in T, i \\in I$$  \n",
    "    \n",
    " * C3) Transporting limit by period:    \n",
    " $$\\sum_{i}x_{it} \\leq tu, \\quad \\forall t $$     \n",
    "          \n",
    " * C4) Flow Balance:  \n",
    " $$ yg_{it}=yg_{it-1} + x_{it} - d_{it}, \\quad \\forall i,t $$       \n",
    " $$ yp_{it}=yp_{it-1} + w_{it} - x_{it}, \\quad \\forall i,t  $$         \n",
    "\n",
    " * C5) Minimum inventory:      \n",
    " $$yg_{it}\\geq ilg_{i}, \\quad \\forall i, t  $$  \n",
    "\n",
    " * C6) Maximum time in Patas Pack:      \n",
    " $$ \\sum_{l=1}^{tup} x_{i,t+l} \\geq yp_{it}, \\quad \\forall t. $$  \n",
    "\n",
    " * C7) Initial inventory:  \n",
    " $$yp_{i0}= inp_{i}, \\quad \\forall i$$    \n",
    " $$yg_{i0}= ing_{i}, \\quad \\forall i $$ \n",
    "\n",
    " * C8) Maximum number of different packing types that can be transferred:\n",
    " $$\\sum_{i}xb_{it}\\leq dpu, \\quad \\forall t  $$\n",
    "\n",
    " * C9) Maximum tranfer quantity for each packing:  \n",
    " $$x_{it}\\leq xb_{it} \\cdot tu, \\quad \\forall i,t $$\n",
    " \n",
    "\n",
    " \n",
    "\n"
   ]
  },
  {
   "cell_type": "markdown",
   "metadata": {},
   "source": [
    "### Objective\n",
    "\n",
    "The goal is to minimize the total cost:\n",
    "\n",
    "$$\\min{\\sum_{i,t}c_{it}w_{it} + \\sum_{i,t}icp_{i}y_{it} + \\sum_{i,t}icg_{it}z_{it}}.$$"
   ]
  },
  {
   "cell_type": "markdown",
   "metadata": {},
   "source": []
  }
 ],
 "metadata": {
  "kernelspec": {
   "display_name": "Python 3 (ipykernel)",
   "language": "python",
   "name": "python3"
  },
  "language_info": {
   "codemirror_mode": {
    "name": "ipython",
    "version": 3
   },
   "file_extension": ".py",
   "mimetype": "text/x-python",
   "name": "python",
   "nbconvert_exporter": "python",
   "pygments_lexer": "ipython3",
   "version": "3.9.5"
  }
 },
 "nbformat": 4,
 "nbformat_minor": 2
}
