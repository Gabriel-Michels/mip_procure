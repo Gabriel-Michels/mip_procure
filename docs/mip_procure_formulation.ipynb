{
 "cells": [
  {
   "cell_type": "markdown",
   "metadata": {},
   "source": [
    "# Mip Procure Formulation\n",
    "*Author(s): Gabriel Michels (IMPA)*   \n",
    "*May, 2024*.\n",
    "\n"
   ]
  },
  {
   "cell_type": "markdown",
   "metadata": {},
   "source": [
    "### Input Data Model\n"
   ]
  },
  {
   "cell_type": "markdown",
   "metadata": {},
   "source": [
    "#### Indices\n",
    "- $I$: Set of packing  \n",
    "- $J$: Factory's set  \n",
    "- $T$: Set of days "
   ]
  },
  {
   "cell_type": "markdown",
   "metadata": {},
   "source": [
    "#### Parameters\n",
    "- $icp:$ Inventory capacity of Patas Pack.  \n",
    "- $icg:$ Inventory capacity of Pet Gourmet.  \n",
    "- $al:$ Aquisition of packing by week.\n",
    "- $tl:$ Transporting limit by week  \n",
    "- $m_{i}:$ Minimum Inventory of packing $i$.  \n",
    "- $d:$ Maximum time of any packing in Patas Pack.  \n",
    "- $inp:$ Initial inventory of Patas Pack.    \n",
    "- $ing:$ Initial inventory of Pet Gourmet.    \n",
    "- $dem_{it}:$ Demand of packing $i$ in day $t$.  \n",
    "- $p_{it}$: aquisitioncost of packing $i$ in the day $t$.  \n",
    "- $cp_{i}$: storage cost by day of product $i$ in the factory Patas Pack.  \n",
    "- $cg_{i}$: storage cost by day of product $i$ in Pet Gourmet.  \n",
    "- $mi_{i}$: Minimum inventory of packing $i$\n"
   ]
  },
  {
   "cell_type": "markdown",
   "metadata": {},
   "source": [
    "### Decision Variables\n",
    "- $y_{it}$: Inventory of packing $i$ at the end of the day $t$ that is in Patas Pack.       \n",
    "- $z_{it}$: Inventory of packing $i$ at the end of the day $t$ that is in Pet Gourmet.        \n",
    "- $x_{it}$: Transported quantity of packing $i$ at the end of the day $t$.    \n",
    "- $w_{it}$: Acquired quantity of packink $i$ at the end of the day $t$.  "
   ]
  },
  {
   "cell_type": "markdown",
   "metadata": {},
   "source": [
    "### Constraints  \n",
    "* C1) Inventory Capacity:      \n",
    "$$\\sum_{i}z_{it}\\leq icg, \\forall t \\in T$$          \n",
    "$$\\sum_{i}y_{it}\\leq icp, \\forall t \\in T$$    \n",
    " \n",
    "\n",
    " * C2) Aquisition limit by week:     \n",
    " $$\\sum_{t=1}^{7}w_{it}\\leq al$$   \n",
    " $$\\sum_{t=8}^{14}w_{it}\\leq al$$    \n",
    "\n",
    " * C3) Transporting limit by week:    \n",
    " $$\\sum_{i\\in I}\\sum_{t=1}^{7} x_{it} \\leq tl $$     \n",
    " $$\\sum_{i\\in I}\\sum_{t=8}^{14} x_{it} \\leq tl$$            \n",
    "\n",
    " * C4)Flow Balance: Demand, and the transporting takes two days:      \n",
    " $$z_{i,t+2}=z_{i, t+1} + x_{i,t} - dem_{i,t+2}$$       \n",
    "\n",
    " * C5) Minimum inventory:      \n",
    " $$z_{it}\\geq mi_{i}, \\forall t \\in T $$  \n",
    "\n",
    " * C6) Maximum time in Patas Pack:      \n",
    " $$ \\sum_{l=1}^{d} x_{i,t+l} \\geq y_{it}, \\forall t. $$  \n",
    "\n",
    " * C7)Initial inventory:  \n",
    " $$y_{i0}= inp$$    \n",
    " $$z_{i0}= ing$$      \n",
    " \n",
    "\n"
   ]
  },
  {
   "cell_type": "markdown",
   "metadata": {},
   "source": [
    "### Objective\n",
    "\n",
    "The goal is to minimize the total cost:\n",
    "\n",
    "$$\\min{\\sum_{i,t}p_{it}w_{it} + \\sum_{i,t}cp_{i}y_{it} + \\sum_{i,t}cg_{it}z_{it}}.$$"
   ]
  }
 ],
 "metadata": {
  "kernelspec": {
   "display_name": "Python 3 (ipykernel)",
   "language": "python",
   "name": "python3"
  },
  "language_info": {
   "codemirror_mode": {
    "name": "ipython",
    "version": 3
   },
   "file_extension": ".py",
   "mimetype": "text/x-python",
   "name": "python",
   "nbconvert_exporter": "python",
   "pygments_lexer": "ipython3",
   "version": "3.9.5"
  }
 },
 "nbformat": 4,
 "nbformat_minor": 2
}
