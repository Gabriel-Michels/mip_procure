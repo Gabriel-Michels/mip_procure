{
 "cells": [
  {
   "cell_type": "markdown",
   "metadata": {},
   "source": [
    "# Mip Procure Formulation\n",
    "*Author(s): Gabriel Michels (IMPA)*   \n",
    "*July, 2024*.\n",
    "\n"
   ]
  },
  {
   "cell_type": "markdown",
   "metadata": {},
   "source": [
    "### Input Data Model\n"
   ]
  },
  {
   "cell_type": "markdown",
   "metadata": {},
   "source": [
    "#### Indices\n",
    "- $I$: Set of packing  \n",
    "- $J$: Factory's set  \n",
    "- $T$: Set of periods"
   ]
  },
  {
   "cell_type": "markdown",
   "metadata": {},
   "source": [
    "#### Parameters\n",
    "- $icp:$ Inventory capacity of Patas Pack.  \n",
    "- $icg:$ Inventory capacity of Pet Gourmet.  \n",
    "- $al_{it}:$ Aquisition limit of packing $i$ by period.\n",
    "- $tl:$ Total tranfer limit by period.  \n",
    "- $m_{i}:$ Minimum Inventory of packing $i$.  \n",
    "- $d:$ Maximum time of any packing in Patas Pack.  \n",
    "- $inp_{i}:$ Initial inventory of packing $i$ in Patas Pack.    \n",
    "- $ing_{i}:$ Initial inventory of packing $i$ in Pet Gourmet.    \n",
    "- $dem_{it}:$ Demand of packing $i$ in period $t$.  \n",
    "- $p_{it}$: acquisition cost of packing $i$ in period $t$.  \n",
    "- $cp_{i}$: storage cost by period of packink $i$ in the factory Patas Pack.  \n",
    "- $cg_{i}$: storage cost by period of packing $i$ in Pet Gourmet.  \n",
    "- $mi_{i}$: Minimum inventory of packing $i$ in Pet Gourmet.\n",
    "- $moq_{it}$: Minimum order quantity of packing $i$ at period $t$.\n",
    "- $dp$: Maximum of different types of packings that are transferred at period."
   ]
  },
  {
   "cell_type": "markdown",
   "metadata": {},
   "source": [
    "### Decision Variables\n",
    "- $y_{it}$: Inventory of packing $i$ at the end of the period $t$ that is in Patas Pack.       \n",
    "- $z_{it}$: Inventory of packing $i$ at the end of the period $t$ that is in Pet Gourmet.        \n",
    "- $x_{it}$: Transported quantity of packing $i$ at the end of the period $t$.    \n",
    "- $w_{it}$: Acquired quantity of packink $i$ at the end of the period $t$. \n",
    "- $wb_{it}$: equals $1$ if some packig $i$ is acquired at period $t$, $0$, otherwise. \n",
    "- $xb_{it}$: equals $1$ is the paking $i$ is transferred at period $t$, $0$, otherwise."
   ]
  },
  {
   "cell_type": "markdown",
   "metadata": {},
   "source": [
    "### Constraints  \n",
    "* C1) Inventory Capacity:      \n",
    "$$\\sum_{i}z_{it}\\leq icg, \\quad \\forall t \\in T$$          \n",
    "$$\\sum_{i}y_{it}\\leq icp, \\quad \\forall t \\in T$$    \n",
    " \n",
    " * C2) Minimum and maximum order quantity:     \n",
    " $$wb_{it} \\cdot moq_{it} \\leq  w_{it} \\leq wb_{it} \\cdot al_{it}, \\quad \\forall t\\in T, i \\in I$$  \n",
    "    \n",
    " * C3) Transporting limit by period:    \n",
    " $$\\sum_{i}x_{it} \\leq tl, \\quad \\forall t $$     \n",
    "          \n",
    " * C4) Flow Balance:  \n",
    " $$ z_{it}=z_{it-1} + x_{it} - dem_{it}, \\quad \\forall i,t $$       \n",
    " $$ y_{it}=y_{it-1} + w_{it} - x_{it}, \\quad \\forall i,t  $$         \n",
    "\n",
    " * C5) Minimum inventory:      \n",
    " $$z_{it}\\geq mi_{i}, \\quad \\forall i, t  $$  \n",
    "\n",
    " * C6) Maximum time in Patas Pack:      \n",
    " $$ \\sum_{l=1}^{d} x_{i,t+l} \\geq y_{it}, \\quad \\forall t. $$  \n",
    "\n",
    " * C7) Initial inventory:  \n",
    " $$y_{i0}= inp_{i}, \\quad \\forall i$$    \n",
    " $$z_{i0}= ing_{i}, \\quad \\forall i $$ \n",
    "\n",
    " * C8) Maximum number of different packing types that can be transferred:\n",
    " $$\\sum_{i}xb_{it}\\leq dp, \\quad \\forall t  $$\n",
    "\n",
    " * C9) Maximum tranfer quantity for each packing:  \n",
    " $$x_{it}\\leq xb_{it} \\cdot tl, \\quad \\forall i,t $$\n",
    " \n",
    "\n",
    " \n",
    "\n"
   ]
  },
  {
   "cell_type": "markdown",
   "metadata": {},
   "source": [
    "### Objective\n",
    "\n",
    "The goal is to minimize the total cost:\n",
    "\n",
    "$$\\min{\\sum_{i,t}p_{it}w_{it} + \\sum_{i,t}cp_{i}y_{it} + \\sum_{i,t}cg_{it}z_{it}}.$$"
   ]
  }
 ],
 "metadata": {
  "kernelspec": {
   "display_name": "Python 3 (ipykernel)",
   "language": "python",
   "name": "python3"
  },
  "language_info": {
   "codemirror_mode": {
    "name": "ipython",
    "version": 3
   },
   "file_extension": ".py",
   "mimetype": "text/x-python",
   "name": "python",
   "nbconvert_exporter": "python",
   "pygments_lexer": "ipython3",
   "version": "3.9.5"
  }
 },
 "nbformat": 4,
 "nbformat_minor": 2
}
